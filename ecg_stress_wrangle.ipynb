{
 "cells": [
  {
   "cell_type": "code",
   "execution_count": 1,
   "id": "fa48445a-37c4-4263-abda-d21f8e1a2bc8",
   "metadata": {},
   "outputs": [],
   "source": [
    "import pandas as pd\n",
    "import numpy as np\n",
    "\n",
    "import matplotlib as mpl\n",
    "import matplotlib.pyplot as plt\n",
    "\n",
    "import seaborn as sns\n",
    "import seaborn.objects as so\n",
    "\n",
    "# configure pandas\n",
    "pd.set_option('display.width', 500)\n",
    "pd.set_option('display.max_rows', 150)\n",
    "pd.set_option('display.max_columns', 150)"
   ]
  },
  {
   "cell_type": "code",
   "execution_count": 2,
   "id": "fdd8f165-ccac-44d4-8150-2ee9fb202a40",
   "metadata": {},
   "outputs": [
    {
     "name": "stdout",
     "output_type": "stream",
     "text": [
      "(45956, 5)\n"
     ]
    },
    {
     "data": {
      "text/html": [
       "<div>\n",
       "<style scoped>\n",
       "    .dataframe tbody tr th:only-of-type {\n",
       "        vertical-align: middle;\n",
       "    }\n",
       "\n",
       "    .dataframe tbody tr th {\n",
       "        vertical-align: top;\n",
       "    }\n",
       "\n",
       "    .dataframe thead th {\n",
       "        text-align: right;\n",
       "    }\n",
       "</style>\n",
       "<table border=\"1\" class=\"dataframe\">\n",
       "  <thead>\n",
       "    <tr style=\"text-align: right;\">\n",
       "      <th></th>\n",
       "      <th>id</th>\n",
       "      <th>epoch</th>\n",
       "      <th>study</th>\n",
       "      <th>rsa_y_ms</th>\n",
       "      <th>rsa_p_ms</th>\n",
       "    </tr>\n",
       "  </thead>\n",
       "  <tbody>\n",
       "    <tr>\n",
       "      <th>0</th>\n",
       "      <td>2</td>\n",
       "      <td>1</td>\n",
       "      <td>pdm</td>\n",
       "      <td>6.980297</td>\n",
       "      <td>5.363268</td>\n",
       "    </tr>\n",
       "    <tr>\n",
       "      <th>1</th>\n",
       "      <td>2</td>\n",
       "      <td>2</td>\n",
       "      <td>pdm</td>\n",
       "      <td>7.009551</td>\n",
       "      <td>5.337959</td>\n",
       "    </tr>\n",
       "    <tr>\n",
       "      <th>2</th>\n",
       "      <td>2</td>\n",
       "      <td>3</td>\n",
       "      <td>pdm</td>\n",
       "      <td>7.003428</td>\n",
       "      <td>5.294412</td>\n",
       "    </tr>\n",
       "    <tr>\n",
       "      <th>3</th>\n",
       "      <td>2</td>\n",
       "      <td>4</td>\n",
       "      <td>pdm</td>\n",
       "      <td>6.967709</td>\n",
       "      <td>5.275212</td>\n",
       "    </tr>\n",
       "    <tr>\n",
       "      <th>4</th>\n",
       "      <td>2</td>\n",
       "      <td>5</td>\n",
       "      <td>pdm</td>\n",
       "      <td>6.900535</td>\n",
       "      <td>5.253063</td>\n",
       "    </tr>\n",
       "  </tbody>\n",
       "</table>\n",
       "</div>"
      ],
      "text/plain": [
       "   id  epoch study  rsa_y_ms  rsa_p_ms\n",
       "0   2      1   pdm  6.980297  5.363268\n",
       "1   2      2   pdm  7.009551  5.337959\n",
       "2   2      3   pdm  7.003428  5.294412\n",
       "3   2      4   pdm  6.967709  5.275212\n",
       "4   2      5   pdm  6.900535  5.253063"
      ]
     },
     "execution_count": 2,
     "metadata": {},
     "output_type": "execute_result"
    }
   ],
   "source": [
    "data = pd.read_csv('ydi_rsa_stress.csv')\n",
    "print(data.shape)\n",
    "data.head()"
   ]
  },
  {
   "cell_type": "code",
   "execution_count": null,
   "id": "439f33bb-44a5-4e7a-886b-05ffff65c386",
   "metadata": {},
   "outputs": [],
   "source": []
  },
  {
   "cell_type": "code",
   "execution_count": 14,
   "id": "0038cc52-1ca1-4208-88d6-2b9de5b5df92",
   "metadata": {},
   "outputs": [
    {
     "data": {
      "text/plain": [
       "146"
      ]
     },
     "execution_count": 14,
     "metadata": {},
     "output_type": "execute_result"
    }
   ],
   "source": [
    "data.id.nunique()"
   ]
  },
  {
   "cell_type": "code",
   "execution_count": 15,
   "id": "c8b5e303-fb26-4069-8fa3-fab3e315383a",
   "metadata": {},
   "outputs": [
    {
     "data": {
      "text/plain": [
       "id\n",
       "1061    453\n",
       "1021    386\n",
       "1083    384\n",
       "1073    362\n",
       "24      345\n",
       "64      345\n",
       "4       341\n",
       "14      341\n",
       "71      339\n",
       "90      337\n",
       "102     335\n",
       "1085    334\n",
       "61      332\n",
       "23      330\n",
       "45      330\n",
       "1059    329\n",
       "1070    328\n",
       "1066    328\n",
       "1016    328\n",
       "1055    328\n",
       "72      328\n",
       "1056    327\n",
       "40      327\n",
       "1076    327\n",
       "1054    325\n",
       "1060    325\n",
       "7       325\n",
       "1057    323\n",
       "1042    323\n",
       "1022    322\n",
       "8       322\n",
       "1002    322\n",
       "44      322\n",
       "54      321\n",
       "63      321\n",
       "1015    321\n",
       "67      320\n",
       "1092    320\n",
       "1110    320\n",
       "1069    320\n",
       "37      320\n",
       "94      320\n",
       "1041    319\n",
       "1068    319\n",
       "1108    318\n",
       "1024    318\n",
       "36      318\n",
       "28      318\n",
       "30      318\n",
       "76      318\n",
       "57      318\n",
       "22      317\n",
       "25      317\n",
       "1086    317\n",
       "1078    317\n",
       "1058    316\n",
       "95      316\n",
       "1012    316\n",
       "101     316\n",
       "65      316\n",
       "41      316\n",
       "80      315\n",
       "51      315\n",
       "1018    315\n",
       "1030    315\n",
       "1100    315\n",
       "1031    315\n",
       "17      315\n",
       "32      315\n",
       "62      315\n",
       "49      314\n",
       "1013    314\n",
       "1117    314\n",
       "82      314\n",
       "92      314\n",
       "1040    314\n",
       "1049    314\n",
       "42      314\n",
       "1096    313\n",
       "18      313\n",
       "43      313\n",
       "93      313\n",
       "26      313\n",
       "1067    313\n",
       "87      313\n",
       "60      313\n",
       "59      313\n",
       "1045    312\n",
       "1115    312\n",
       "1118    312\n",
       "58      312\n",
       "33      312\n",
       "69      311\n",
       "1036    311\n",
       "39      311\n",
       "31      311\n",
       "1087    311\n",
       "81      311\n",
       "1050    311\n",
       "5       311\n",
       "1028    311\n",
       "96      310\n",
       "11      310\n",
       "56      310\n",
       "20      310\n",
       "1090    310\n",
       "1037    309\n",
       "38      309\n",
       "68      309\n",
       "1014    309\n",
       "91      309\n",
       "1039    309\n",
       "1026    308\n",
       "99      308\n",
       "1091    308\n",
       "13      308\n",
       "1007    308\n",
       "1089    307\n",
       "1017    307\n",
       "46      307\n",
       "1005    307\n",
       "1044    307\n",
       "1008    307\n",
       "1071    307\n",
       "1051    306\n",
       "6       305\n",
       "1020    305\n",
       "1048    304\n",
       "29      304\n",
       "73      304\n",
       "1105    304\n",
       "52      303\n",
       "66      303\n",
       "1064    303\n",
       "1053    302\n",
       "3       300\n",
       "1034    296\n",
       "1088    290\n",
       "1011    286\n",
       "15      284\n",
       "2       278\n",
       "1019    277\n",
       "19      276\n",
       "98      254\n",
       "1025    227\n",
       "100     165\n",
       "Name: count, dtype: int64"
      ]
     },
     "execution_count": 15,
     "metadata": {},
     "output_type": "execute_result"
    }
   ],
   "source": [
    "data.id.value_counts()"
   ]
  },
  {
   "cell_type": "markdown",
   "id": "4ba083af-2c3b-454b-993b-4a6edad3bb05",
   "metadata": {},
   "source": [
    "### Most participant (ID) pairs have different number of timepoints"
   ]
  },
  {
   "cell_type": "code",
   "execution_count": 16,
   "id": "0d06f768-776b-40d6-b033-d5307de5ed06",
   "metadata": {},
   "outputs": [
    {
     "data": {
      "text/plain": [
       "study\n",
       "pdm      23456\n",
       "dorry    22500\n",
       "Name: count, dtype: int64"
      ]
     },
     "execution_count": 16,
     "metadata": {},
     "output_type": "execute_result"
    }
   ],
   "source": [
    "data.study.value_counts()"
   ]
  },
  {
   "cell_type": "code",
   "execution_count": 25,
   "id": "a3872133-360d-41ff-846f-f81de9105a4b",
   "metadata": {},
   "outputs": [
    {
     "name": "stdout",
     "output_type": "stream",
     "text": [
      "136\n"
     ]
    },
    {
     "data": {
      "text/plain": [
       "id\n",
       "3       300\n",
       "4       341\n",
       "5       311\n",
       "6       305\n",
       "7       325\n",
       "8       322\n",
       "11      310\n",
       "13      308\n",
       "14      341\n",
       "17      315\n",
       "18      313\n",
       "20      310\n",
       "22      317\n",
       "23      330\n",
       "24      345\n",
       "25      317\n",
       "26      313\n",
       "28      318\n",
       "29      304\n",
       "30      318\n",
       "31      311\n",
       "32      315\n",
       "33      312\n",
       "36      318\n",
       "37      320\n",
       "38      309\n",
       "39      311\n",
       "40      327\n",
       "41      316\n",
       "42      314\n",
       "43      313\n",
       "44      322\n",
       "45      330\n",
       "46      307\n",
       "49      314\n",
       "51      315\n",
       "52      303\n",
       "54      321\n",
       "56      310\n",
       "57      318\n",
       "58      312\n",
       "59      313\n",
       "60      313\n",
       "61      332\n",
       "62      315\n",
       "63      321\n",
       "64      345\n",
       "65      316\n",
       "66      303\n",
       "67      320\n",
       "68      309\n",
       "69      311\n",
       "71      339\n",
       "72      328\n",
       "73      304\n",
       "76      318\n",
       "80      315\n",
       "81      311\n",
       "82      314\n",
       "87      313\n",
       "90      337\n",
       "91      309\n",
       "92      314\n",
       "93      313\n",
       "94      320\n",
       "95      316\n",
       "96      310\n",
       "99      308\n",
       "101     316\n",
       "102     335\n",
       "1002    322\n",
       "1005    307\n",
       "1007    308\n",
       "1008    307\n",
       "1012    316\n",
       "1013    314\n",
       "1014    309\n",
       "1015    321\n",
       "1016    328\n",
       "1017    307\n",
       "1018    315\n",
       "1020    305\n",
       "1021    386\n",
       "1022    322\n",
       "1024    318\n",
       "1026    308\n",
       "1028    311\n",
       "1030    315\n",
       "1031    315\n",
       "1036    311\n",
       "1037    309\n",
       "1039    309\n",
       "1040    314\n",
       "1041    319\n",
       "1042    323\n",
       "1044    307\n",
       "1045    312\n",
       "1048    304\n",
       "1049    314\n",
       "1050    311\n",
       "1051    306\n",
       "1053    302\n",
       "1054    325\n",
       "1055    328\n",
       "1056    327\n",
       "1057    323\n",
       "1058    316\n",
       "1059    329\n",
       "1060    325\n",
       "1061    453\n",
       "1064    303\n",
       "1066    328\n",
       "1067    313\n",
       "1068    319\n",
       "1069    320\n",
       "1070    328\n",
       "1071    307\n",
       "1073    362\n",
       "1076    327\n",
       "1078    317\n",
       "1083    384\n",
       "1085    334\n",
       "1086    317\n",
       "1087    311\n",
       "1089    307\n",
       "1090    310\n",
       "1091    308\n",
       "1092    320\n",
       "1096    313\n",
       "1100    315\n",
       "1105    304\n",
       "1108    318\n",
       "1110    320\n",
       "1115    312\n",
       "1117    314\n",
       "1118    312\n",
       "Name: count, dtype: int64"
      ]
     },
     "execution_count": 25,
     "metadata": {},
     "output_type": "execute_result"
    }
   ],
   "source": [
    "n_subs = data.id.value_counts()\n",
    "n_thresh = n_subs[data.id.value_counts()>=300].sort_index()\n",
    "print(len(n_thresh))\n",
    "n_thresh"
   ]
  },
  {
   "cell_type": "markdown",
   "id": "0ae1cd67-5956-4d62-b8d1-6467c717dd72",
   "metadata": {},
   "source": [
    "### Data Description\n",
    "\n",
    "* Baseline: n=142 participants have >=150 timepoints\n",
    "* Stress: n=136 participants have >=300 timepoints"
   ]
  },
  {
   "cell_type": "markdown",
   "id": "3ff83365-fa91-4091-b2c3-f9861ad9c704",
   "metadata": {},
   "source": [
    "### Load Baseline data"
   ]
  },
  {
   "cell_type": "code",
   "execution_count": 28,
   "id": "9e285535-4cf9-4353-9191-d78ebd26cbf1",
   "metadata": {},
   "outputs": [
    {
     "data": {
      "text/plain": [
       "142"
      ]
     },
     "execution_count": 28,
     "metadata": {},
     "output_type": "execute_result"
    }
   ],
   "source": [
    "bas = pd.read_csv('ydi_rsa_baseline.csv')\n",
    "bas_subs = bas.id.value_counts()\n",
    "bas_thresh = bas_subs[bas.id.value_counts()>=150].sort_index()\n",
    "len(bas_thresh)"
   ]
  },
  {
   "cell_type": "markdown",
   "id": "1ab691f8-e301-4077-8c65-3c5fadfd34b9",
   "metadata": {},
   "source": [
    "### Get participants who have enough trials in baseline and stress conditions\n",
    "* N=134 with at least 150 epochs baseline and 300 epochs stress conditions"
   ]
  },
  {
   "cell_type": "code",
   "execution_count": 32,
   "id": "caff050f-1af9-445a-a58c-70cceaec1541",
   "metadata": {},
   "outputs": [],
   "source": [
    "subs_use = list(set(n_thresh.index).intersection(bas_thresh.index))"
   ]
  },
  {
   "cell_type": "code",
   "execution_count": 38,
   "id": "abbb8923-8c23-4438-8ebd-b8d81e29d26c",
   "metadata": {},
   "outputs": [
    {
     "name": "stdout",
     "output_type": "stream",
     "text": [
      "134\n"
     ]
    }
   ],
   "source": [
    "print(len(subs_use))\n",
    "# subs_use"
   ]
  },
  {
   "cell_type": "code",
   "execution_count": 34,
   "id": "8fba78ed-ac6e-44e5-92d7-2b760459948e",
   "metadata": {},
   "outputs": [],
   "source": [
    "pd.Series(subs_use).to_csv('rsa_subs_to_use.csv', index=False)"
   ]
  },
  {
   "cell_type": "markdown",
   "id": "68f2c87f-bdb6-4d7c-b14b-f7928c8c9049",
   "metadata": {},
   "source": [
    "### Select data for Good Participants\n",
    "* check for any null values"
   ]
  },
  {
   "cell_type": "code",
   "execution_count": 39,
   "id": "ed6812c1-d944-47d1-bb73-7134fc3c8699",
   "metadata": {},
   "outputs": [
    {
     "name": "stdout",
     "output_type": "stream",
     "text": [
      "(42698, 5)\n"
     ]
    },
    {
     "data": {
      "text/plain": [
       "id          False\n",
       "epoch       False\n",
       "study       False\n",
       "rsa_y_ms    False\n",
       "rsa_p_ms    False\n",
       "dtype: bool"
      ]
     },
     "execution_count": 39,
     "metadata": {},
     "output_type": "execute_result"
    }
   ],
   "source": [
    "stress = data[data.id.isin(subs_use)]\n",
    "print(stress.shape)\n",
    "stress.isnull().any()"
   ]
  },
  {
   "cell_type": "code",
   "execution_count": 40,
   "id": "43af5656-c41b-414d-8888-41a8c4b9115c",
   "metadata": {},
   "outputs": [
    {
     "name": "stdout",
     "output_type": "stream",
     "text": [
      "(33319, 5)\n"
     ]
    },
    {
     "data": {
      "text/plain": [
       "id         False\n",
       "epoch      False\n",
       "study      False\n",
       "rsa_y_b    False\n",
       "rsa_p_b    False\n",
       "dtype: bool"
      ]
     },
     "execution_count": 40,
     "metadata": {},
     "output_type": "execute_result"
    }
   ],
   "source": [
    "base = bas[bas.id.isin(subs_use)]\n",
    "print(base.shape)\n",
    "base.isnull().any()"
   ]
  },
  {
   "cell_type": "markdown",
   "id": "9a35b352-4aaa-42ea-99bb-f74fd6d172ac",
   "metadata": {},
   "source": [
    "### Select epochs of interest \n",
    "* Stress: <=300\n",
    "* Base: <=150"
   ]
  },
  {
   "cell_type": "code",
   "execution_count": 41,
   "id": "79e0cfd8-d0cc-47ab-8816-d46ede89636f",
   "metadata": {},
   "outputs": [],
   "source": [
    "stress = stress[stress.epoch<=300]\n",
    "base = base[base.epoch<=150]"
   ]
  },
  {
   "cell_type": "code",
   "execution_count": 42,
   "id": "390e3083-8056-44f1-8d08-e0cf7fe98d26",
   "metadata": {},
   "outputs": [
    {
     "name": "stdout",
     "output_type": "stream",
     "text": [
      "(40200, 5)\n",
      "(20100, 5)\n"
     ]
    }
   ],
   "source": [
    "print(stress.shape)\n",
    "print(base.shape)"
   ]
  },
  {
   "cell_type": "code",
   "execution_count": 44,
   "id": "78db88d6-6e32-4351-888f-a997fccf98b0",
   "metadata": {},
   "outputs": [
    {
     "data": {
      "text/plain": [
       "(300, 150)"
      ]
     },
     "execution_count": 44,
     "metadata": {},
     "output_type": "execute_result"
    }
   ],
   "source": [
    "stress.epoch.max(), base.epoch.max()"
   ]
  },
  {
   "cell_type": "code",
   "execution_count": 46,
   "id": "19efc485-5bf3-4fe0-8d1a-01f308b47946",
   "metadata": {},
   "outputs": [
    {
     "name": "stdout",
     "output_type": "stream",
     "text": [
      "Sample Size\n"
     ]
    },
    {
     "data": {
      "text/plain": [
       "(134, 134)"
      ]
     },
     "execution_count": 46,
     "metadata": {},
     "output_type": "execute_result"
    }
   ],
   "source": [
    "print('Sample Size')\n",
    "stress.id.nunique(), base.id.nunique()"
   ]
  },
  {
   "cell_type": "markdown",
   "id": "fb1a854d-1c2f-4331-9090-86f11516913f",
   "metadata": {},
   "source": [
    "### Save Cleaned data"
   ]
  },
  {
   "cell_type": "code",
   "execution_count": 45,
   "id": "db19472a-f936-49b6-8966-7f4eaf4f754d",
   "metadata": {},
   "outputs": [],
   "source": [
    "stress.to_csv('ydi_rsa_stress_clean.csv', index=False)\n",
    "base.to_csv('ydi_rsa_baseline_clean.csv', index=False)"
   ]
  },
  {
   "cell_type": "code",
   "execution_count": null,
   "id": "99e6b0be-4b36-453a-8ae9-1268ea41d0b7",
   "metadata": {},
   "outputs": [],
   "source": []
  },
  {
   "cell_type": "code",
   "execution_count": null,
   "id": "ad9be79e-12c6-4e5e-8657-50e3945a4f9a",
   "metadata": {},
   "outputs": [],
   "source": []
  }
 ],
 "metadata": {
  "kernelspec": {
   "display_name": "Python 3 (ipykernel)",
   "language": "python",
   "name": "python3"
  },
  "language_info": {
   "codemirror_mode": {
    "name": "ipython",
    "version": 3
   },
   "file_extension": ".py",
   "mimetype": "text/x-python",
   "name": "python",
   "nbconvert_exporter": "python",
   "pygments_lexer": "ipython3",
   "version": "3.12.3"
  }
 },
 "nbformat": 4,
 "nbformat_minor": 5
}
