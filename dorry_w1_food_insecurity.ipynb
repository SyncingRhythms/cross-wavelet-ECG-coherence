{
 "cells": [
  {
   "cell_type": "code",
   "execution_count": 1,
   "id": "cf875e55-dbc5-46dd-8122-8c813653ee44",
   "metadata": {},
   "outputs": [],
   "source": [
    "import numpy as np\n",
    "import pandas as pd\n",
    "\n",
    "from sklearn.experimental import enable_iterative_imputer\n",
    "from sklearn.impute import IterativeImputer\n",
    "\n",
    "# configure pandas\n",
    "pd.set_option('display.width', 500)\n",
    "pd.set_option('display.max_columns', 200)\n",
    "pd.set_option('display.max_rows', 200)"
   ]
  },
  {
   "cell_type": "code",
   "execution_count": 2,
   "id": "3fb51bc3-efec-4eaf-b180-bf0abfed0793",
   "metadata": {},
   "outputs": [],
   "source": [
    "dpath = \"/media/cglab/TOSHIBA EXT/convertSPSS/DORRY/1. DORRY W1/1. DORRY W1 COMPLETE - 1001 to 1155/Parent Survey/Individual Measures/\""
   ]
  },
  {
   "cell_type": "code",
   "execution_count": 3,
   "id": "5b1f1767-a774-4cdd-8357-ea0bbc0186c7",
   "metadata": {},
   "outputs": [
    {
     "name": "stdout",
     "output_type": "stream",
     "text": [
      "(144, 15)\n"
     ]
    },
    {
     "data": {
      "text/html": [
       "<div>\n",
       "<style scoped>\n",
       "    .dataframe tbody tr th:only-of-type {\n",
       "        vertical-align: middle;\n",
       "    }\n",
       "\n",
       "    .dataframe tbody tr th {\n",
       "        vertical-align: top;\n",
       "    }\n",
       "\n",
       "    .dataframe thead th {\n",
       "        text-align: right;\n",
       "    }\n",
       "</style>\n",
       "<table border=\"1\" class=\"dataframe\">\n",
       "  <thead>\n",
       "    <tr style=\"text-align: right;\">\n",
       "      <th></th>\n",
       "      <th>ID</th>\n",
       "      <th>FIS1PW1</th>\n",
       "      <th>FIS2PW1</th>\n",
       "      <th>FIS3PW1</th>\n",
       "      <th>FIS4PW1</th>\n",
       "      <th>FIS5PW1</th>\n",
       "      <th>FIS6PW1</th>\n",
       "      <th>FIS1PW1_R</th>\n",
       "      <th>FIS2PW1_R</th>\n",
       "      <th>FIS4PW1_R</th>\n",
       "      <th>FIS3PW1_R</th>\n",
       "      <th>FIS5PW1_R</th>\n",
       "      <th>FIS6PW1_R</th>\n",
       "      <th>FISPW1_T</th>\n",
       "      <th>FISPW1_L</th>\n",
       "    </tr>\n",
       "  </thead>\n",
       "  <tbody>\n",
       "    <tr>\n",
       "      <th>0</th>\n",
       "      <td>1001</td>\n",
       "      <td>Sometimes True</td>\n",
       "      <td>Sometimes True</td>\n",
       "      <td>Yes</td>\n",
       "      <td>Only 1 or 2 months</td>\n",
       "      <td>Yes</td>\n",
       "      <td>Yes</td>\n",
       "      <td>=often or sometimes true OR almost every month...</td>\n",
       "      <td>=often or sometimes true OR almost every month...</td>\n",
       "      <td>=never true OR only 1 or 2 months OR do not know</td>\n",
       "      <td>=yes</td>\n",
       "      <td>=yes</td>\n",
       "      <td>=yes</td>\n",
       "      <td>5.0</td>\n",
       "      <td>3.0</td>\n",
       "    </tr>\n",
       "    <tr>\n",
       "      <th>1</th>\n",
       "      <td>1002</td>\n",
       "      <td>Never True</td>\n",
       "      <td>Never True</td>\n",
       "      <td>No</td>\n",
       "      <td>NaN</td>\n",
       "      <td>No</td>\n",
       "      <td>No</td>\n",
       "      <td>=never true OR only 1 or 2 months OR do not know</td>\n",
       "      <td>=never true OR only 1 or 2 months OR do not know</td>\n",
       "      <td>=never true OR only 1 or 2 months OR do not know</td>\n",
       "      <td>=no</td>\n",
       "      <td>=no</td>\n",
       "      <td>=no</td>\n",
       "      <td>0.0</td>\n",
       "      <td>1.0</td>\n",
       "    </tr>\n",
       "    <tr>\n",
       "      <th>2</th>\n",
       "      <td>1003</td>\n",
       "      <td>Never True</td>\n",
       "      <td>Never True</td>\n",
       "      <td>No</td>\n",
       "      <td>NaN</td>\n",
       "      <td>No</td>\n",
       "      <td>No</td>\n",
       "      <td>=never true OR only 1 or 2 months OR do not know</td>\n",
       "      <td>=never true OR only 1 or 2 months OR do not know</td>\n",
       "      <td>=never true OR only 1 or 2 months OR do not know</td>\n",
       "      <td>=no</td>\n",
       "      <td>=no</td>\n",
       "      <td>=no</td>\n",
       "      <td>0.0</td>\n",
       "      <td>1.0</td>\n",
       "    </tr>\n",
       "    <tr>\n",
       "      <th>3</th>\n",
       "      <td>1004</td>\n",
       "      <td>Never True</td>\n",
       "      <td>Never True</td>\n",
       "      <td>No</td>\n",
       "      <td>NaN</td>\n",
       "      <td>No</td>\n",
       "      <td>No</td>\n",
       "      <td>=never true OR only 1 or 2 months OR do not know</td>\n",
       "      <td>=never true OR only 1 or 2 months OR do not know</td>\n",
       "      <td>=never true OR only 1 or 2 months OR do not know</td>\n",
       "      <td>=no</td>\n",
       "      <td>=no</td>\n",
       "      <td>=no</td>\n",
       "      <td>0.0</td>\n",
       "      <td>1.0</td>\n",
       "    </tr>\n",
       "    <tr>\n",
       "      <th>4</th>\n",
       "      <td>1005</td>\n",
       "      <td>Never True</td>\n",
       "      <td>Never True</td>\n",
       "      <td>No</td>\n",
       "      <td>NaN</td>\n",
       "      <td>No</td>\n",
       "      <td>No</td>\n",
       "      <td>=never true OR only 1 or 2 months OR do not know</td>\n",
       "      <td>=never true OR only 1 or 2 months OR do not know</td>\n",
       "      <td>=never true OR only 1 or 2 months OR do not know</td>\n",
       "      <td>=no</td>\n",
       "      <td>=no</td>\n",
       "      <td>=no</td>\n",
       "      <td>0.0</td>\n",
       "      <td>1.0</td>\n",
       "    </tr>\n",
       "  </tbody>\n",
       "</table>\n",
       "</div>"
      ],
      "text/plain": [
       "     ID         FIS1PW1         FIS2PW1 FIS3PW1             FIS4PW1 FIS5PW1 FIS6PW1                                          FIS1PW1_R                                          FIS2PW1_R                                         FIS4PW1_R FIS3PW1_R FIS5PW1_R FIS6PW1_R  FISPW1_T  FISPW1_L\n",
       "0  1001  Sometimes True  Sometimes True     Yes  Only 1 or 2 months     Yes     Yes  =often or sometimes true OR almost every month...  =often or sometimes true OR almost every month...  =never true OR only 1 or 2 months OR do not know      =yes      =yes      =yes       5.0       3.0\n",
       "1  1002      Never True      Never True      No                 NaN      No      No   =never true OR only 1 or 2 months OR do not know   =never true OR only 1 or 2 months OR do not know  =never true OR only 1 or 2 months OR do not know       =no       =no       =no       0.0       1.0\n",
       "2  1003      Never True      Never True      No                 NaN      No      No   =never true OR only 1 or 2 months OR do not know   =never true OR only 1 or 2 months OR do not know  =never true OR only 1 or 2 months OR do not know       =no       =no       =no       0.0       1.0\n",
       "3  1004      Never True      Never True      No                 NaN      No      No   =never true OR only 1 or 2 months OR do not know   =never true OR only 1 or 2 months OR do not know  =never true OR only 1 or 2 months OR do not know       =no       =no       =no       0.0       1.0\n",
       "4  1005      Never True      Never True      No                 NaN      No      No   =never true OR only 1 or 2 months OR do not know   =never true OR only 1 or 2 months OR do not know  =never true OR only 1 or 2 months OR do not know       =no       =no       =no       0.0       1.0"
      ]
     },
     "execution_count": 3,
     "metadata": {},
     "output_type": "execute_result"
    }
   ],
   "source": [
    "food = pd.read_csv(dpath + 'DORRY WAVE 1 - Parent - Food Insecurity Scale (FIS).csv')\n",
    "print(food.shape)\n",
    "food.head()"
   ]
  },
  {
   "cell_type": "code",
   "execution_count": 4,
   "id": "82538444-1acd-47a4-93c4-55e7ff128593",
   "metadata": {},
   "outputs": [
    {
     "data": {
      "text/plain": [
       "ID             int64\n",
       "FIS1PW1       object\n",
       "FIS2PW1       object\n",
       "FIS3PW1       object\n",
       "FIS4PW1       object\n",
       "FIS5PW1       object\n",
       "FIS6PW1       object\n",
       "FIS1PW1_R     object\n",
       "FIS2PW1_R     object\n",
       "FIS4PW1_R     object\n",
       "FIS3PW1_R     object\n",
       "FIS5PW1_R     object\n",
       "FIS6PW1_R     object\n",
       "FISPW1_T     float64\n",
       "FISPW1_L     float64\n",
       "dtype: object"
      ]
     },
     "execution_count": 4,
     "metadata": {},
     "output_type": "execute_result"
    }
   ],
   "source": [
    "food.dtypes"
   ]
  },
  {
   "cell_type": "markdown",
   "id": "2183a4ef-958e-4a8e-a9e8-38f65f2563e3",
   "metadata": {},
   "source": [
    "### Load RSA data to get subs who have Cross wavelet data"
   ]
  },
  {
   "cell_type": "code",
   "execution_count": 9,
   "id": "24084da6-28e0-40a3-8d21-65daa73fff7a",
   "metadata": {},
   "outputs": [],
   "source": [
    "# function to get RSA subs\n",
    "def getRSASubs():\n",
    "    # load rsa\n",
    "    rsa = pd.read_csv('/home/cglab/projects/dorry/cross-wavlet/ydi_rsa_stress_clean.csv')\n",
    "    # select only subjects from DORRY study\n",
    "    drsa= rsa[rsa['study']=='dorry'].copy()\n",
    "    # get unique subject numbers\n",
    "    subs_rsa_dor = drsa['id'].unique()\n",
    "    return subs_rsa_dor"
   ]
  },
  {
   "cell_type": "code",
   "execution_count": 10,
   "id": "02adbbc0-0195-4df9-8602-4d4ffe63b3f5",
   "metadata": {},
   "outputs": [
    {
     "data": {
      "text/plain": [
       "array([1002, 1005, 1007, 1008, 1012, 1013, 1014, 1015, 1016, 1017, 1018,\n",
       "       1020, 1021, 1022, 1024, 1026, 1028, 1030, 1031, 1036, 1037, 1039,\n",
       "       1040, 1041, 1042, 1044, 1045, 1048, 1049, 1050, 1051, 1053, 1054,\n",
       "       1055, 1056, 1057, 1058, 1059, 1060, 1061, 1064, 1066, 1067, 1068,\n",
       "       1069, 1070, 1071, 1073, 1076, 1078, 1083, 1085, 1086, 1087, 1089,\n",
       "       1090, 1091, 1092, 1096, 1100, 1105, 1108, 1110, 1115, 1117, 1118])"
      ]
     },
     "execution_count": 10,
     "metadata": {},
     "output_type": "execute_result"
    }
   ],
   "source": [
    "rsa_subs = getRSASubs()\n",
    "rsa_subs"
   ]
  },
  {
   "cell_type": "code",
   "execution_count": 11,
   "id": "e745f50a-4929-4eff-8f90-2103c47ef0ad",
   "metadata": {},
   "outputs": [
    {
     "name": "stdout",
     "output_type": "stream",
     "text": [
      "(65, 15)\n"
     ]
    },
    {
     "data": {
      "text/html": [
       "<div>\n",
       "<style scoped>\n",
       "    .dataframe tbody tr th:only-of-type {\n",
       "        vertical-align: middle;\n",
       "    }\n",
       "\n",
       "    .dataframe tbody tr th {\n",
       "        vertical-align: top;\n",
       "    }\n",
       "\n",
       "    .dataframe thead th {\n",
       "        text-align: right;\n",
       "    }\n",
       "</style>\n",
       "<table border=\"1\" class=\"dataframe\">\n",
       "  <thead>\n",
       "    <tr style=\"text-align: right;\">\n",
       "      <th></th>\n",
       "      <th>ID</th>\n",
       "      <th>FIS1PW1</th>\n",
       "      <th>FIS2PW1</th>\n",
       "      <th>FIS3PW1</th>\n",
       "      <th>FIS4PW1</th>\n",
       "      <th>FIS5PW1</th>\n",
       "      <th>FIS6PW1</th>\n",
       "      <th>FIS1PW1_R</th>\n",
       "      <th>FIS2PW1_R</th>\n",
       "      <th>FIS4PW1_R</th>\n",
       "      <th>FIS3PW1_R</th>\n",
       "      <th>FIS5PW1_R</th>\n",
       "      <th>FIS6PW1_R</th>\n",
       "      <th>FISPW1_T</th>\n",
       "      <th>FISPW1_L</th>\n",
       "    </tr>\n",
       "  </thead>\n",
       "  <tbody>\n",
       "    <tr>\n",
       "      <th>1</th>\n",
       "      <td>1002</td>\n",
       "      <td>Never True</td>\n",
       "      <td>Never True</td>\n",
       "      <td>No</td>\n",
       "      <td>NaN</td>\n",
       "      <td>No</td>\n",
       "      <td>No</td>\n",
       "      <td>=never true OR only 1 or 2 months OR do not know</td>\n",
       "      <td>=never true OR only 1 or 2 months OR do not know</td>\n",
       "      <td>=never true OR only 1 or 2 months OR do not know</td>\n",
       "      <td>=no</td>\n",
       "      <td>=no</td>\n",
       "      <td>=no</td>\n",
       "      <td>0.0</td>\n",
       "      <td>1.0</td>\n",
       "    </tr>\n",
       "    <tr>\n",
       "      <th>4</th>\n",
       "      <td>1005</td>\n",
       "      <td>Never True</td>\n",
       "      <td>Never True</td>\n",
       "      <td>No</td>\n",
       "      <td>NaN</td>\n",
       "      <td>No</td>\n",
       "      <td>No</td>\n",
       "      <td>=never true OR only 1 or 2 months OR do not know</td>\n",
       "      <td>=never true OR only 1 or 2 months OR do not know</td>\n",
       "      <td>=never true OR only 1 or 2 months OR do not know</td>\n",
       "      <td>=no</td>\n",
       "      <td>=no</td>\n",
       "      <td>=no</td>\n",
       "      <td>0.0</td>\n",
       "      <td>1.0</td>\n",
       "    </tr>\n",
       "    <tr>\n",
       "      <th>6</th>\n",
       "      <td>1007</td>\n",
       "      <td>Often True</td>\n",
       "      <td>Sometimes True</td>\n",
       "      <td>Yes</td>\n",
       "      <td>Some months but not every month</td>\n",
       "      <td>Yes</td>\n",
       "      <td>No</td>\n",
       "      <td>=often or sometimes true OR almost every month...</td>\n",
       "      <td>=often or sometimes true OR almost every month...</td>\n",
       "      <td>=often or sometimes true OR almost every month...</td>\n",
       "      <td>=yes</td>\n",
       "      <td>=yes</td>\n",
       "      <td>=no</td>\n",
       "      <td>5.0</td>\n",
       "      <td>3.0</td>\n",
       "    </tr>\n",
       "    <tr>\n",
       "      <th>7</th>\n",
       "      <td>1008</td>\n",
       "      <td>Sometimes True</td>\n",
       "      <td>Sometimes True</td>\n",
       "      <td>No</td>\n",
       "      <td>NaN</td>\n",
       "      <td>No</td>\n",
       "      <td>No</td>\n",
       "      <td>=often or sometimes true OR almost every month...</td>\n",
       "      <td>=often or sometimes true OR almost every month...</td>\n",
       "      <td>=never true OR only 1 or 2 months OR do not know</td>\n",
       "      <td>=no</td>\n",
       "      <td>=no</td>\n",
       "      <td>=no</td>\n",
       "      <td>2.0</td>\n",
       "      <td>2.0</td>\n",
       "    </tr>\n",
       "    <tr>\n",
       "      <th>11</th>\n",
       "      <td>1012</td>\n",
       "      <td>Never True</td>\n",
       "      <td>Never True</td>\n",
       "      <td>No</td>\n",
       "      <td>NaN</td>\n",
       "      <td>No</td>\n",
       "      <td>No</td>\n",
       "      <td>=never true OR only 1 or 2 months OR do not know</td>\n",
       "      <td>=never true OR only 1 or 2 months OR do not know</td>\n",
       "      <td>=never true OR only 1 or 2 months OR do not know</td>\n",
       "      <td>=no</td>\n",
       "      <td>=no</td>\n",
       "      <td>=no</td>\n",
       "      <td>0.0</td>\n",
       "      <td>1.0</td>\n",
       "    </tr>\n",
       "  </tbody>\n",
       "</table>\n",
       "</div>"
      ],
      "text/plain": [
       "      ID         FIS1PW1         FIS2PW1 FIS3PW1                          FIS4PW1 FIS5PW1 FIS6PW1                                          FIS1PW1_R                                          FIS2PW1_R                                          FIS4PW1_R FIS3PW1_R FIS5PW1_R FIS6PW1_R  FISPW1_T  FISPW1_L\n",
       "1   1002      Never True      Never True      No                              NaN      No      No   =never true OR only 1 or 2 months OR do not know   =never true OR only 1 or 2 months OR do not know   =never true OR only 1 or 2 months OR do not know       =no       =no       =no       0.0       1.0\n",
       "4   1005      Never True      Never True      No                              NaN      No      No   =never true OR only 1 or 2 months OR do not know   =never true OR only 1 or 2 months OR do not know   =never true OR only 1 or 2 months OR do not know       =no       =no       =no       0.0       1.0\n",
       "6   1007      Often True  Sometimes True     Yes  Some months but not every month     Yes      No  =often or sometimes true OR almost every month...  =often or sometimes true OR almost every month...  =often or sometimes true OR almost every month...      =yes      =yes       =no       5.0       3.0\n",
       "7   1008  Sometimes True  Sometimes True      No                              NaN      No      No  =often or sometimes true OR almost every month...  =often or sometimes true OR almost every month...   =never true OR only 1 or 2 months OR do not know       =no       =no       =no       2.0       2.0\n",
       "11  1012      Never True      Never True      No                              NaN      No      No   =never true OR only 1 or 2 months OR do not know   =never true OR only 1 or 2 months OR do not know   =never true OR only 1 or 2 months OR do not know       =no       =no       =no       0.0       1.0"
      ]
     },
     "execution_count": 11,
     "metadata": {},
     "output_type": "execute_result"
    }
   ],
   "source": [
    "# select subs from food that are in rsa_subs (i.e., subs with RSA and thus cross wavelet data)\n",
    "food = food[food['ID'].isin(rsa_subs)]\n",
    "print(food.shape)\n",
    "food.head()"
   ]
  },
  {
   "cell_type": "code",
   "execution_count": 13,
   "id": "eb6df00c-9d99-4aa8-be1b-e47f89fcf709",
   "metadata": {},
   "outputs": [
    {
     "data": {
      "text/plain": [
       "0"
      ]
     },
     "execution_count": 13,
     "metadata": {},
     "output_type": "execute_result"
    }
   ],
   "source": [
    "food['FISPW1_T'].isnull().sum()"
   ]
  },
  {
   "cell_type": "markdown",
   "id": "ce884808-9e78-4da4-b301-a8a3ebb42e9d",
   "metadata": {},
   "source": [
    "### save to csv"
   ]
  },
  {
   "cell_type": "code",
   "execution_count": 16,
   "id": "8517e470-5be4-4e5f-a67f-3133875f9d58",
   "metadata": {},
   "outputs": [],
   "source": [
    "outpath = '/home/cglab/projects/dorry/cross-wavlet/'\n",
    "food.to_csv(outpath + 'dorry_w1_p_FoodIS_matched_CWT.csv', index=False)"
   ]
  },
  {
   "cell_type": "code",
   "execution_count": null,
   "id": "5c9900fa-7fd2-43a5-8f95-8fc397e65fc8",
   "metadata": {},
   "outputs": [],
   "source": []
  }
 ],
 "metadata": {
  "kernelspec": {
   "display_name": "Python 3 (ipykernel)",
   "language": "python",
   "name": "python3"
  },
  "language_info": {
   "codemirror_mode": {
    "name": "ipython",
    "version": 3
   },
   "file_extension": ".py",
   "mimetype": "text/x-python",
   "name": "python",
   "nbconvert_exporter": "python",
   "pygments_lexer": "ipython3",
   "version": "3.11.7"
  }
 },
 "nbformat": 4,
 "nbformat_minor": 5
}
